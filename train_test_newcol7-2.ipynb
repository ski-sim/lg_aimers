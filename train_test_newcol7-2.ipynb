{
 "cells": [
  {
   "attachments": {},
   "cell_type": "markdown",
   "id": "b4d6f4ef",
   "metadata": {},
   "source": [
    "## **import**"
   ]
  },
  {
   "cell_type": "code",
   "execution_count": 31,
   "id": "7f6b6806265a7e12",
   "metadata": {
    "ExecuteTime": {
     "end_time": "2024-02-13T10:07:58.615023900Z",
     "start_time": "2024-02-13T10:07:58.578028300Z"
    },
    "collapsed": false
   },
   "outputs": [],
   "source": [
    "import matplotlib.pyplot as plt\n",
    "import pandas as pd\n",
    "import numpy as np\n",
    "import seaborn as sns\n",
    "from sklearn.model_selection import GridSearchCV\n",
    "import xgboost as xgb\n",
    "from sklearn.svm import SVC\n",
    "from sklearn.ensemble import VotingClassifier\n",
    "from catboost import CatBoostClassifier\n",
    "\n",
    "from sklearn.model_selection import train_test_split\n",
    "from sklearn.cluster import DBSCAN\n",
    "from sklearn.preprocessing import MinMaxScaler\n",
    "from sklearn.metrics import f1_score\n",
    "from sklearn.ensemble import RandomForestClassifier\n",
    "from sklearn.metrics import accuracy_score\n",
    "from sklearn.ensemble import GradientBoostingClassifier\n",
    "import lightgbm as lgb\n",
    "from sklearn.linear_model import SGDClassifier\n",
    "from sklearn.ensemble import AdaBoostClassifier\n",
    "from sklearn.preprocessing import OneHotEncoder\n",
    "import pandas as pd\n",
    "from sklearn.metrics import f1_score, make_scorer\n",
    "from sklearn.model_selection import GridSearchCV, StratifiedKFold\n",
    "from sklearn.ensemble import RandomForestClassifier\n",
    "\n",
    "import warnings\n",
    "\n",
    "# 경고 무시\n",
    "warnings.filterwarnings(\"ignore\", category=FutureWarning)\n",
    "\n",
    "import os\n",
    "os.environ['KMP_DUPLICATE_LIB_OK']='True'\n",
    "\n",
    "\n",
    "from tensorflow import keras\n",
    "from tensorflow.keras import layers\n",
    "from sklearn.preprocessing import StandardScaler\n",
    "from imblearn.over_sampling import ADASYN\n",
    "\n",
    "from sklearn.metrics import (\n",
    "    accuracy_score,\n",
    "    confusion_matrix,\n",
    "    f1_score,\n",
    "    precision_score,\n",
    "    recall_score,\n",
    ")"
   ]
  },
  {
   "cell_type": "code",
   "execution_count": 32,
   "id": "d9767a91",
   "metadata": {},
   "outputs": [],
   "source": [
    "def plot_top_categories_conversion_rate(df, category_col, target_col, top_n=10):\n",
    "    # 각 범주별로 target_col의 True와 False의 개수를 집계합니다.\n",
    "    conversion_counts = df.groupby([category_col, target_col]).size().unstack(fill_value=0)\n",
    "\n",
    "    # True 비율을 계산합니다.\n",
    "    conversion_rates = conversion_counts.div(conversion_counts.sum(axis=1), axis=0)\n",
    "\n",
    "    # True 비율이 높은 상위 N개 범주를 선택합니다.\n",
    "    top_categories = conversion_rates[True].sort_values(ascending=False).head(top_n).index\n",
    "\n",
    "    # 상위 N개 범주의 데이터를 선택합니다.\n",
    "    top_conversion_rates = conversion_rates.loc[top_categories]\n",
    "\n",
    "    # 시각화: 상위 N개 범주의 전환율을 바 차트로 시각화합니다.\n",
    "    ax = top_conversion_rates.plot(kind='bar', stacked=True, figsize=(8, 3))\n",
    "\n",
    "\n",
    "    plt.title(f'Top {top_n} {category_col} Conversion Rate')\n",
    "    plt.xlabel(category_col)\n",
    "    plt.ylabel('Conversion Rate')\n",
    "\n",
    "    # x축 레이블 회전\n",
    "    plt.xticks(rotation=45)\n",
    "\n",
    "    # 범례 설정\n",
    "    plt.legend(title='Is Converted', labels=['False', 'True'])\n",
    "\n",
    "    # 그래프 표시\n",
    "    plt.tight_layout()\n",
    "    plt.show()\n",
    "\n"
   ]
  },
  {
   "cell_type": "code",
   "execution_count": 74,
   "id": "7feadd570e7b1802",
   "metadata": {
    "ExecuteTime": {
     "end_time": "2024-02-13T09:27:08.017837900Z",
     "start_time": "2024-02-13T09:27:07.678717500Z"
    },
    "collapsed": false
   },
   "outputs": [],
   "source": [
    "train = pd.read_csv(\"../Database/train_test_newcol7.csv\")\n",
    "train.drop(['customer_country'], axis= 1 , inplace = True)\n",
    "train['lead_owner'] = train['lead_owner'].astype('object')\n",
    "\n",
    "test = pd.read_csv(\"../Database/test_test_newcol7.csv\")\n",
    "test.drop(['customer_country'], axis= 1 , inplace = True)\n",
    "test['lead_owner'] = test['lead_owner'].astype('object')"
   ]
  },
  {
   "cell_type": "code",
   "execution_count": 75,
   "id": "6b5044696a2a28a6",
   "metadata": {
    "ExecuteTime": {
     "end_time": "2024-02-13T09:27:23.990525900Z",
     "start_time": "2024-02-13T09:27:23.855824600Z"
    },
    "collapsed": false
   },
   "outputs": [],
   "source": [
    "columns_to_encode = ['country','lead_owner', 'business_unit', 'customer_idx', 'customer_type', 'enterprise',\n",
    "                     'customer_job', 'inquiry_type', 'product_category',\n",
    "                     'product_subcategory', 'customer_position', 'response_corporate',\n",
    "                     'expected_timeline', 'business_area', 'business_subarea','ver_win_rate_x_category','historical_existing_cnt_category']\n",
    "\n",
    "for column in columns_to_encode:\n",
    "    train[column] = train[column].astype('category')\n",
    "    test[column] = test[column].astype('category')"
   ]
  },
  {
   "cell_type": "code",
   "execution_count": 76,
   "id": "657b8d1efd4d605c",
   "metadata": {
    "ExecuteTime": {
     "end_time": "2024-02-13T09:27:25.929733800Z",
     "start_time": "2024-02-13T09:27:24.758868100Z"
    },
    "collapsed": false
   },
   "outputs": [
    {
     "name": "stdout",
     "output_type": "stream",
     "text": [
      "Train encoded shape: (59299, 39)\n",
      "Test encoded shape: (5271, 39)\n"
     ]
    }
   ],
   "source": [
    "from category_encoders import TargetEncoder\n",
    "\n",
    "# 타겟 인코딩에 사용할 스무딩 값 설정\n",
    "smoothing_value = 1 # 이 값을 조정하여 스무딩의 정도를 변경할 수 있습니다.\n",
    "\n",
    "# 타겟 인코더를 각 컬럼에 적용하기 위한 함수\n",
    "def target_encode(train_df, test_df, columns, target, smoothing):\n",
    "    encoders = {column: TargetEncoder(smoothing=smoothing) for column in columns}\n",
    "    train_encoded = train_df.copy()\n",
    "    test_encoded = test_df.copy()\n",
    "\n",
    "    for column in columns:\n",
    "        # 학습 데이터셋에 대해 fit_transform을 사용하여 타겟 인코딩 적용\n",
    "        train_encoded[column] = encoders[column].fit_transform(train_df[column], target)\n",
    "        # 테스트 데이터셋에 대해 transform을 사용하여 타겟 인코딩 적용\n",
    "        test_encoded[column] = encoders[column].transform(test_df[column])\n",
    "\n",
    "    return train_encoded, test_encoded, encoders\n",
    "\n",
    "# 인코딩할 컬럼 목록\n",
    "columns_to_encode = ['business_unit', 'customer_idx', 'customer_type', 'enterprise',\n",
    "                     'customer_job', 'inquiry_type', 'product_category',\n",
    "                     'product_subcategory', 'customer_position', 'response_corporate',\n",
    "                     'expected_timeline', 'business_area', 'business_subarea','ver_win_rate_x_category']\n",
    "\n",
    "# 타겟 변수 (예: 'target_column')\n",
    "target_column = 'is_converted'\n",
    "\n",
    "# train, test 데이터셋에 타겟 인코딩 적용\n",
    "train_encoded, test_encoded, encoders = target_encode(train, test, columns_to_encode, train[target_column], smoothing=smoothing_value)\n",
    "\n",
    "# 결과 확인\n",
    "print(\"Train encoded shape:\", train_encoded.shape)\n",
    "print(\"Test encoded shape:\", test_encoded.shape)\n",
    "\n",
    "train = train_encoded\n",
    "test = test_encoded"
   ]
  },
  {
   "cell_type": "code",
   "execution_count": 77,
   "id": "62b74318be4425",
   "metadata": {
    "ExecuteTime": {
     "end_time": "2024-02-13T09:27:26.081475100Z",
     "start_time": "2024-02-13T09:27:25.927738900Z"
    },
    "collapsed": false
   },
   "outputs": [
    {
     "name": "stdout",
     "output_type": "stream",
     "text": [
      "Train encoded shape: (59299, 39)\n",
      "Test encoded shape: (5271, 39)\n"
     ]
    }
   ],
   "source": [
    "from category_encoders import TargetEncoder\n",
    "\n",
    "# 타겟 인코딩에 사용할 스무딩 값 설정\n",
    "smoothing_value = 5 # 이 값을 조정하여 스무딩의 정도를 변경할 수 있습니다.\n",
    "\n",
    "# 타겟 인코더를 각 컬럼에 적용하기 위한 함수\n",
    "def target_encode(train_df, test_df, columns, target, smoothing):\n",
    "    encoders = {column: TargetEncoder(smoothing=smoothing) for column in columns}\n",
    "    train_encoded = train_df.copy()\n",
    "    test_encoded = test_df.copy()\n",
    "\n",
    "    for column in columns:\n",
    "        # 학습 데이터셋에 대해 fit_transform을 사용하여 타겟 인코딩 적용\n",
    "        train_encoded[column] = encoders[column].fit_transform(train_df[column], target)\n",
    "        # 테스트 데이터셋에 대해 transform을 사용하여 타겟 인코딩 적용\n",
    "        test_encoded[column] = encoders[column].transform(test_df[column])\n",
    "\n",
    "    return train_encoded, test_encoded, encoders\n",
    "\n",
    "# 인코딩할 컬럼 목록\n",
    "columns_to_encode = ['country','lead_owner','historical_existing_cnt_category']\n",
    "\n",
    "# 타겟 변수 (예: 'target_column')\n",
    "target_column = 'is_converted'\n",
    "\n",
    "# train, test 데이터셋에 타겟 인코딩 적용\n",
    "train_encoded, test_encoded, encoders = target_encode(train, test, columns_to_encode, train[target_column], smoothing=smoothing_value)\n",
    "\n",
    "# 결과 확인\n",
    "print(\"Train encoded shape:\", train_encoded.shape)\n",
    "print(\"Test encoded shape:\", test_encoded.shape)\n",
    "\n",
    "train = train_encoded\n",
    "test = test_encoded"
   ]
  },
  {
   "cell_type": "code",
   "execution_count": 78,
   "id": "7285500a9b39ba33",
   "metadata": {
    "ExecuteTime": {
     "end_time": "2024-02-13T09:27:34.326429700Z",
     "start_time": "2024-02-13T09:27:34.203757300Z"
    },
    "collapsed": false
   },
   "outputs": [],
   "source": [
    "from sklearn.preprocessing import StandardScaler\n",
    "\n",
    "# int형 또는 float형의 컬럼만 선택\n",
    "numeric_columns = ['historical_existing_cnt','lead_desc_length']\n",
    "\n",
    "scaler = StandardScaler()\n",
    "\n",
    "# train 데이터에 대해서 fit과 transform 수행\n",
    "train_scaled = train.copy()\n",
    "train_scaled[numeric_columns] = scaler.fit_transform(train[numeric_columns])\n",
    "\n",
    "# test 데이터에 대해서는 transform만 수행\n",
    "test_scaled = test.copy()\n",
    "test_scaled[numeric_columns] = scaler.transform(test[numeric_columns])\n",
    "\n",
    "train = train_scaled\n",
    "test = test_scaled"
   ]
  },
  {
   "cell_type": "code",
   "execution_count": 79,
   "id": "aa3b7b7b",
   "metadata": {},
   "outputs": [
    {
     "data": {
      "image/png": "[encoded data removed]",
      "text/plain": [
       "<Figure size 800x300 with 1 Axes>"
      ]
     },
     "metadata": {},
     "output_type": "display_data"
    }
   ],
   "source": [
    "# train 데이터프레임과 is_converted 컬럼을 가정하고 있음\n",
    "obj_col = ['lead_owner']\n",
    "\n",
    "# 각 범주형 컬럼에 대해 시각화 함수 실행\n",
    "for col in obj_col:\n",
    "    plot_top_categories_conversion_rate(train, col, 'is_converted', top_n=30)"
   ]
  },
  {
   "cell_type": "code",
   "execution_count": 80,
   "id": "3bdae9edc0abc037",
   "metadata": {
    "ExecuteTime": {
     "end_time": "2024-02-13T09:27:44.682112Z",
     "start_time": "2024-02-13T09:27:44.642220100Z"
    },
    "collapsed": false
   },
   "outputs": [],
   "source": [
    "# 조건에 따라 새로운 컬럼에 1을 할당하는 코드\n",
    "train['high_customer_type'] = (train['customer_type'] >= 0.98).astype(int)\n",
    "train['high_customer_idx'] = (train['customer_idx'] >= 0.98).astype(int)\n",
    "train['high_lead_owner'] = (train['lead_owner'] >= 0.98).astype(int)\n",
    "\n",
    "train['low_customer_type'] = (train['customer_type'] >= 0.0001).astype(int)\n",
    "train['low_customer_idx'] = (train['customer_idx'] >= 0.0001).astype(int)\n",
    "train['low_lead_owner'] = (train['lead_owner'] >= 0.0001).astype(int)\n",
    "\n",
    "test['high_customer_type'] = (test['customer_type'] >= 0.98).astype(int)\n",
    "test['high_customer_idx'] = (test['customer_idx'] >= 0.98).astype(int)\n",
    "test['high_lead_owner'] = (test['lead_owner'] >= 0.98).astype(int)\n",
    "\n",
    "test['low_customer_type'] = (test['customer_type'] >= 0.0001).astype(int)\n",
    "test['low_customer_idx'] = (test['customer_idx'] >= 0.0001).astype(int)\n",
    "test['low_lead_owner'] = (test['lead_owner'] >= 0.0001).astype(int)"
   ]
  },
  {
   "cell_type": "code",
   "execution_count": 81,
   "id": "2e7e725e087b799a",
   "metadata": {
    "ExecuteTime": {
     "end_time": "2024-02-13T09:27:46.646138600Z",
     "start_time": "2024-02-13T09:27:46.580315700Z"
    },
    "collapsed": false
   },
   "outputs": [],
   "source": [
    "train.loc[train['is_converted'] == True, 'is_converted'] = 1\n",
    "train.loc[train['is_converted'] == False, 'is_converted'] = 0\n",
    "\n",
    "train['is_converted'] = train['is_converted'].astype(float)\n"
   ]
  },
  {
   "cell_type": "code",
   "execution_count": 82,
   "id": "88c09cfc10fcd38f",
   "metadata": {
    "ExecuteTime": {
     "end_time": "2024-02-13T09:27:47.237076500Z",
     "start_time": "2024-02-13T09:27:47.209153Z"
    },
    "collapsed": false
   },
   "outputs": [],
   "source": [
    "X = train[train.columns.drop('is_converted')]\n",
    "Y = train['is_converted']"
   ]
  },
  {
   "cell_type": "code",
   "execution_count": 83,
   "id": "f641fb53710742e5",
   "metadata": {
    "ExecuteTime": {
     "end_time": "2024-02-13T09:27:47.859375200Z",
     "start_time": "2024-02-13T09:27:47.805422700Z"
    },
    "collapsed": false
   },
   "outputs": [],
   "source": [
    "# X와 Y로 나누기\n",
    "X_train, X_test, y_train, y_test = train_test_split(X, Y, test_size=0.2, random_state=42, shuffle=True)"
   ]
  },
  {
   "cell_type": "code",
   "execution_count": 84,
   "id": "37a3eec8ac7aee4a",
   "metadata": {
    "ExecuteTime": {
     "end_time": "2024-02-13T09:29:00.238080200Z",
     "start_time": "2024-02-13T09:29:00.129252100Z"
    },
    "collapsed": false
   },
   "outputs": [],
   "source": [
    "# 예측에 필요한 데이터 분리\n",
    "x_test = test.drop([\"is_converted\"], axis=1)"
   ]
  },
  {
   "cell_type": "code",
   "execution_count": 85,
   "id": "7e58c815027a6c0d",
   "metadata": {
    "ExecuteTime": {
     "end_time": "2024-02-13T09:29:02.570203800Z",
     "start_time": "2024-02-13T09:29:02.469472800Z"
    },
    "collapsed": false
   },
   "outputs": [],
   "source": [
    "from imblearn.over_sampling import SMOTE\n",
    "from imblearn.over_sampling import ADASYN\n",
    "from imblearn.combine import SMOTETomek\n",
    "from imblearn.under_sampling import TomekLinks\n",
    "\n",
    "smoteto = SMOTETomek(tomek=TomekLinks(sampling_strategy='majority'))\n",
    "\n",
    "adasyn = ADASYN(random_state=42)\n",
    "# SMOTE 오버샘플링 적용\n",
    "sm = SMOTE(random_state=42)\n",
    "X_train, y_train = smoteto.fit_resample(X_train, y_train)"
   ]
  },
  {
   "cell_type": "code",
   "execution_count": 45,
   "id": "c709031eab3cb2a1",
   "metadata": {
    "ExecuteTime": {
     "end_time": "2024-02-06T04:26:08.021618800Z",
     "start_time": "2024-02-06T04:26:07.972970600Z"
    },
    "collapsed": false
   },
   "outputs": [],
   "source": [
    "def get_clf_eval(y_test, y_pred=None):\n",
    "    confusion = confusion_matrix(y_test, y_pred, labels=[True, False])\n",
    "    accuracy = accuracy_score(y_test, y_pred)\n",
    "    precision = precision_score(y_test, y_pred, labels=[True, False])\n",
    "    recall = recall_score(y_test, y_pred)\n",
    "    F1 = f1_score(y_test, y_pred, labels=[True, False])\n",
    "\n",
    "    print(\"오차행렬:\\n\", confusion)\n",
    "    print(\"\\n정확도: {:.4f}\".format(accuracy))\n",
    "    print(\"정밀도: {:.4f}\".format(precision))\n",
    "    print(\"재현율: {:.4f}\".format(recall))\n",
    "    print(\"F1: {:.4f}\".format(F1))"
   ]
  },
  {
   "cell_type": "code",
   "execution_count": 103,
   "id": "59fa3380ad65f609",
   "metadata": {
    "ExecuteTime": {
     "end_time": "2024-02-13T10:19:19.966930700Z",
     "start_time": "2024-02-13T10:19:19.919130300Z"
    },
    "collapsed": false
   },
   "outputs": [],
   "source": [
    "import time\n",
    "import optuna\n",
    "from sklearn.tree import DecisionTreeClassifier\n",
    "from lightgbm import LGBMClassifier\n",
    "from sklearn.metrics import f1_score\n",
    "# XGBoost와 CatBoost 라이브러리를 임포트합니다.\n",
    "import xgboost as xgb\n",
    "import catboost as cb\n",
    "def objective(trial):\n",
    "    # classifier_name = trial.suggest_categorical('classifier', ['DecisionTree', 'LGBM', 'XGBoost', 'CatBoost'])\n",
    "    classifier_name = 'CatBoost'\n",
    "    if classifier_name == 'DecisionTree':\n",
    "        param = {\n",
    "            'max_depth': trial.suggest_int('max_depth', 3, 20),\n",
    "            'min_samples_split': trial.suggest_int('min_samples_split', 2, 20),\n",
    "            'min_samples_leaf': trial.suggest_int('min_samples_leaf', 1, 20),\n",
    "            'max_features': trial.suggest_int('max_features', 1, 30)\n",
    "        }\n",
    "        model = DecisionTreeClassifier(**param)\n",
    "    elif classifier_name == 'LGBM':\n",
    "        param = {\n",
    "            'n_estimators': trial.suggest_int('n_estimators', 300, 500),\n",
    "            'learning_rate': trial.suggest_loguniform('learning_rate', 0.01, 0.3),\n",
    "            'num_leaves': trial.suggest_int('num_leaves', 31, 128),\n",
    "            'max_depth': trial.suggest_int('max_depth', 3, 12),\n",
    "\n",
    "        }\n",
    "        model = LGBMClassifier(**param)\n",
    "    elif classifier_name == 'XGBoost':\n",
    "        param = {\n",
    "            'n_estimators': trial.suggest_int('n_estimators', 100, 500),\n",
    "            'learning_rate': trial.suggest_loguniform('learning_rate', 0.01, 0.3),\n",
    "            'max_depth': trial.suggest_int('max_depth', 3, 10),\n",
    "            'min_child_weight': trial.suggest_int('min_child_weight', 1, 10),\n",
    "            'subsample': trial.suggest_float('subsample', 0.5, 1),\n",
    "            'colsample_bytree': trial.suggest_float('colsample_bytree', 0.5, 1),\n",
    "        }\n",
    "        model = xgb.XGBClassifier(**param)\n",
    "    elif classifier_name == 'CatBoost':\n",
    "        param = {\n",
    "            'iterations': trial.suggest_int('iterations', 100, 500),\n",
    "            'learning_rate': trial.suggest_loguniform('learning_rate', 0.01, 0.3),\n",
    "            'depth': trial.suggest_int('depth', 4, 10),\n",
    "            'l2_leaf_reg': trial.suggest_int('l2_leaf_reg', 1, 10),\n",
    "            'border_count': trial.suggest_int('border_count', 1, 255),\n",
    "            'loss_function': 'Logloss',\n",
    "        }\n",
    "        model = cb.CatBoostClassifier(**param, verbose=False)\n",
    "\n",
    "\n",
    "    model.fit(X_train, y_train)\n",
    "    \n",
    "    test_pred = model.predict(x_test)\n",
    "    print(sum(test_pred))\n",
    "    y_pred = model.predict(X_test)\n",
    "    score = f1_score(y_test, y_pred, average='binary')\n",
    "    return score"
   ]
  },
  {
   "attachments": {},
   "cell_type": "markdown",
   "id": "71369e66",
   "metadata": {},
   "source": [
    "## **catboost,xgboost,dt,lightgbm**"
   ]
  },
  {
   "cell_type": "code",
   "execution_count": 104,
   "id": "3e721e15",
   "metadata": {},
   "outputs": [
    {
     "name": "stderr",
     "output_type": "stream",
     "text": [
      "[I 2024-02-15 16:42:25,848] A new study created in memory with name: no-name-20ce6fdf-9229-4040-a320-340526e5ef9c\n",
      "[I 2024-02-15 16:42:26,253] Trial 0 finished with value: 0.7194127243066885 and parameters: {'max_depth': 9, 'min_samples_split': 20, 'min_samples_leaf': 15, 'max_features': 18}. Best is trial 0 with value: 0.7194127243066885.\n"
     ]
    },
    {
     "name": "stdout",
     "output_type": "stream",
     "text": [
      "1590.0\n"
     ]
    },
    {
     "name": "stderr",
     "output_type": "stream",
     "text": [
      "[I 2024-02-15 16:42:26,835] Trial 1 finished with value: 0.6795275590551181 and parameters: {'max_depth': 5, 'min_samples_split': 4, 'min_samples_leaf': 2, 'max_features': 26}. Best is trial 0 with value: 0.7194127243066885.\n"
     ]
    },
    {
     "name": "stdout",
     "output_type": "stream",
     "text": [
      "2591.0\n"
     ]
    },
    {
     "name": "stderr",
     "output_type": "stream",
     "text": [
      "[I 2024-02-15 16:42:28,015] Trial 2 finished with value: 0.7709154621112572 and parameters: {'max_depth': 13, 'min_samples_split': 15, 'min_samples_leaf': 1, 'max_features': 30}. Best is trial 2 with value: 0.7709154621112572.\n"
     ]
    },
    {
     "name": "stdout",
     "output_type": "stream",
     "text": [
      "1312.0\n"
     ]
    },
    {
     "name": "stderr",
     "output_type": "stream",
     "text": [
      "[I 2024-02-15 16:42:28,403] Trial 3 finished with value: 0.7523343708314807 and parameters: {'max_depth': 17, 'min_samples_split': 6, 'min_samples_leaf': 4, 'max_features': 6}. Best is trial 2 with value: 0.7709154621112572.\n"
     ]
    },
    {
     "name": "stdout",
     "output_type": "stream",
     "text": [
      "1231.0\n"
     ]
    },
    {
     "name": "stderr",
     "output_type": "stream",
     "text": [
      "[I 2024-02-15 16:42:28,751] Trial 4 finished with value: 0.6598639455782312 and parameters: {'max_depth': 8, 'min_samples_split': 11, 'min_samples_leaf': 9, 'max_features': 9}. Best is trial 2 with value: 0.7709154621112572.\n"
     ]
    },
    {
     "name": "stdout",
     "output_type": "stream",
     "text": [
      "1535.0\n"
     ]
    },
    {
     "name": "stderr",
     "output_type": "stream",
     "text": [
      "[I 2024-02-15 16:42:29,145] Trial 5 finished with value: 0.7605633802816901 and parameters: {'max_depth': 14, 'min_samples_split': 4, 'min_samples_leaf': 6, 'max_features': 11}. Best is trial 2 with value: 0.7709154621112572.\n"
     ]
    },
    {
     "name": "stdout",
     "output_type": "stream",
     "text": [
      "796.0\n"
     ]
    },
    {
     "name": "stderr",
     "output_type": "stream",
     "text": [
      "[I 2024-02-15 16:42:29,604] Trial 6 finished with value: 0.7333608929309632 and parameters: {'max_depth': 11, 'min_samples_split': 16, 'min_samples_leaf': 4, 'max_features': 16}. Best is trial 2 with value: 0.7709154621112572.\n"
     ]
    },
    {
     "name": "stdout",
     "output_type": "stream",
     "text": [
      "2238.0\n"
     ]
    },
    {
     "name": "stderr",
     "output_type": "stream",
     "text": [
      "[I 2024-02-15 16:42:29,912] Trial 7 finished with value: 0.7206375838926175 and parameters: {'max_depth': 13, 'min_samples_split': 2, 'min_samples_leaf': 13, 'max_features': 6}. Best is trial 2 with value: 0.7709154621112572.\n"
     ]
    },
    {
     "name": "stdout",
     "output_type": "stream",
     "text": [
      "920.0\n"
     ]
    },
    {
     "name": "stderr",
     "output_type": "stream",
     "text": [
      "[I 2024-02-15 16:42:30,403] Trial 8 finished with value: 0.6671522214129643 and parameters: {'max_depth': 4, 'min_samples_split': 20, 'min_samples_leaf': 20, 'max_features': 25}. Best is trial 2 with value: 0.7709154621112572.\n"
     ]
    },
    {
     "name": "stdout",
     "output_type": "stream",
     "text": [
      "2569.0\n"
     ]
    },
    {
     "name": "stderr",
     "output_type": "stream",
     "text": [
      "[I 2024-02-15 16:42:30,781] Trial 9 finished with value: 0.696923076923077 and parameters: {'max_depth': 8, 'min_samples_split': 3, 'min_samples_leaf': 14, 'max_features': 14}. Best is trial 2 with value: 0.7709154621112572.\n"
     ]
    },
    {
     "name": "stdout",
     "output_type": "stream",
     "text": [
      "2186.0\n"
     ]
    },
    {
     "name": "stderr",
     "output_type": "stream",
     "text": [
      "[I 2024-02-15 16:42:31,765] Trial 10 finished with value: 0.7903225806451613 and parameters: {'max_depth': 20, 'min_samples_split': 12, 'min_samples_leaf': 1, 'max_features': 29}. Best is trial 10 with value: 0.7903225806451613.\n"
     ]
    },
    {
     "name": "stdout",
     "output_type": "stream",
     "text": [
      "258.0\n"
     ]
    },
    {
     "name": "stderr",
     "output_type": "stream",
     "text": [
      "[I 2024-02-15 16:42:32,669] Trial 11 finished with value: 0.8 and parameters: {'max_depth': 20, 'min_samples_split': 12, 'min_samples_leaf': 1, 'max_features': 30}. Best is trial 11 with value: 0.8.\n"
     ]
    },
    {
     "name": "stdout",
     "output_type": "stream",
     "text": [
      "1935.0\n"
     ]
    },
    {
     "name": "stderr",
     "output_type": "stream",
     "text": [
      "[I 2024-02-15 16:42:33,367] Trial 12 finished with value: 0.7761332099907493 and parameters: {'max_depth': 20, 'min_samples_split': 9, 'min_samples_leaf': 8, 'max_features': 22}. Best is trial 11 with value: 0.8.\n"
     ]
    },
    {
     "name": "stdout",
     "output_type": "stream",
     "text": [
      "1534.0\n"
     ]
    },
    {
     "name": "stderr",
     "output_type": "stream",
     "text": [
      "[I 2024-02-15 16:42:34,307] Trial 13 finished with value: 0.7946385830540929 and parameters: {'max_depth': 20, 'min_samples_split': 14, 'min_samples_leaf': 1, 'max_features': 30}. Best is trial 11 with value: 0.8.\n"
     ]
    },
    {
     "name": "stdout",
     "output_type": "stream",
     "text": [
      "2359.0\n"
     ]
    },
    {
     "name": "stderr",
     "output_type": "stream",
     "text": [
      "[I 2024-02-15 16:42:35,113] Trial 14 finished with value: 0.7826492537313433 and parameters: {'max_depth': 17, 'min_samples_split': 15, 'min_samples_leaf': 5, 'max_features': 20}. Best is trial 11 with value: 0.8.\n"
     ]
    },
    {
     "name": "stdout",
     "output_type": "stream",
     "text": [
      "2381.0\n"
     ]
    },
    {
     "name": "stderr",
     "output_type": "stream",
     "text": [
      "[I 2024-02-15 16:42:35,895] Trial 15 finished with value: 0.7781410555815039 and parameters: {'max_depth': 17, 'min_samples_split': 12, 'min_samples_leaf': 8, 'max_features': 25}. Best is trial 11 with value: 0.8.\n"
     ]
    },
    {
     "name": "stdout",
     "output_type": "stream",
     "text": [
      "769.0\n"
     ]
    },
    {
     "name": "stderr",
     "output_type": "stream",
     "text": [
      "[I 2024-02-15 16:42:36,669] Trial 16 finished with value: 0.7851580393953276 and parameters: {'max_depth': 18, 'min_samples_split': 8, 'min_samples_leaf': 11, 'max_features': 30}. Best is trial 11 with value: 0.8.\n"
     ]
    },
    {
     "name": "stdout",
     "output_type": "stream",
     "text": [
      "1715.0\n"
     ]
    },
    {
     "name": "stderr",
     "output_type": "stream",
     "text": [
      "[I 2024-02-15 16:42:37,432] Trial 17 finished with value: 0.7656320287899235 and parameters: {'max_depth': 15, 'min_samples_split': 18, 'min_samples_leaf': 18, 'max_features': 22}. Best is trial 11 with value: 0.8.\n"
     ]
    },
    {
     "name": "stdout",
     "output_type": "stream",
     "text": [
      "1354.0\n"
     ]
    },
    {
     "name": "stderr",
     "output_type": "stream",
     "text": [
      "[I 2024-02-15 16:42:38,302] Trial 18 finished with value: 0.7802303262955854 and parameters: {'max_depth': 20, 'min_samples_split': 13, 'min_samples_leaf': 3, 'max_features': 27}. Best is trial 11 with value: 0.8.\n"
     ]
    },
    {
     "name": "stdout",
     "output_type": "stream",
     "text": [
      "1793.0\n"
     ]
    },
    {
     "name": "stderr",
     "output_type": "stream",
     "text": [
      "[I 2024-02-15 16:42:38,988] Trial 19 finished with value: 0.772748056698674 and parameters: {'max_depth': 15, 'min_samples_split': 9, 'min_samples_leaf': 6, 'max_features': 23}. Best is trial 11 with value: 0.8.\n"
     ]
    },
    {
     "name": "stdout",
     "output_type": "stream",
     "text": [
      "2143.0\n"
     ]
    },
    {
     "name": "stderr",
     "output_type": "stream",
     "text": [
      "[I 2024-02-15 16:42:39,712] Trial 20 finished with value: 0.7856810785681079 and parameters: {'max_depth': 18, 'min_samples_split': 14, 'min_samples_leaf': 1, 'max_features': 28}. Best is trial 11 with value: 0.8.\n",
      "[I 2024-02-15 16:42:39,901] Trial 21 finished with value: 0.5990302126072361 and parameters: {'max_depth': 20, 'min_samples_split': 11, 'min_samples_leaf': 1, 'max_features': 1}. Best is trial 11 with value: 0.8.\n"
     ]
    },
    {
     "name": "stdout",
     "output_type": "stream",
     "text": [
      "1266.0\n",
      "2078.0\n"
     ]
    },
    {
     "name": "stderr",
     "output_type": "stream",
     "text": [
      "[I 2024-02-15 16:42:40,752] Trial 22 finished with value: 0.7897727272727273 and parameters: {'max_depth': 19, 'min_samples_split': 17, 'min_samples_leaf': 3, 'max_features': 30}. Best is trial 11 with value: 0.8.\n"
     ]
    },
    {
     "name": "stdout",
     "output_type": "stream",
     "text": [
      "2081.0\n"
     ]
    },
    {
     "name": "stderr",
     "output_type": "stream",
     "text": [
      "[I 2024-02-15 16:42:41,571] Trial 23 finished with value: 0.7765466297322253 and parameters: {'max_depth': 16, 'min_samples_split': 13, 'min_samples_leaf': 6, 'max_features': 28}. Best is trial 11 with value: 0.8.\n"
     ]
    },
    {
     "name": "stdout",
     "output_type": "stream",
     "text": [
      "362.0\n"
     ]
    },
    {
     "name": "stderr",
     "output_type": "stream",
     "text": [
      "[I 2024-02-15 16:42:42,337] Trial 24 finished with value: 0.7825670498084292 and parameters: {'max_depth': 19, 'min_samples_split': 10, 'min_samples_leaf': 3, 'max_features': 24}. Best is trial 11 with value: 0.8.\n"
     ]
    },
    {
     "name": "stdout",
     "output_type": "stream",
     "text": [
      "1195.0\n"
     ]
    },
    {
     "name": "stderr",
     "output_type": "stream",
     "text": [
      "[I 2024-02-15 16:42:43,225] Trial 25 finished with value: 0.7894736842105263 and parameters: {'max_depth': 19, 'min_samples_split': 7, 'min_samples_leaf': 1, 'max_features': 28}. Best is trial 11 with value: 0.8.\n"
     ]
    },
    {
     "name": "stdout",
     "output_type": "stream",
     "text": [
      "1923.0\n"
     ]
    },
    {
     "name": "stderr",
     "output_type": "stream",
     "text": [
      "[I 2024-02-15 16:42:43,876] Trial 26 finished with value: 0.7741626794258373 and parameters: {'max_depth': 18, 'min_samples_split': 13, 'min_samples_leaf': 4, 'max_features': 20}. Best is trial 11 with value: 0.8.\n"
     ]
    },
    {
     "name": "stdout",
     "output_type": "stream",
     "text": [
      "1391.0\n"
     ]
    },
    {
     "name": "stderr",
     "output_type": "stream",
     "text": [
      "[I 2024-02-15 16:42:44,866] Trial 27 finished with value: 0.7844455112818051 and parameters: {'max_depth': 20, 'min_samples_split': 18, 'min_samples_leaf': 2, 'max_features': 30}. Best is trial 11 with value: 0.8.\n"
     ]
    },
    {
     "name": "stdout",
     "output_type": "stream",
     "text": [
      "992.0\n"
     ]
    },
    {
     "name": "stderr",
     "output_type": "stream",
     "text": [
      "[I 2024-02-15 16:42:45,572] Trial 28 finished with value: 0.7679633867276888 and parameters: {'max_depth': 16, 'min_samples_split': 12, 'min_samples_leaf': 7, 'max_features': 27}. Best is trial 11 with value: 0.8.\n"
     ]
    },
    {
     "name": "stdout",
     "output_type": "stream",
     "text": [
      "916.0\n"
     ]
    },
    {
     "name": "stderr",
     "output_type": "stream",
     "text": [
      "[I 2024-02-15 16:42:46,074] Trial 29 finished with value: 0.753686036426713 and parameters: {'max_depth': 12, 'min_samples_split': 15, 'min_samples_leaf': 10, 'max_features': 19}. Best is trial 11 with value: 0.8.\n"
     ]
    },
    {
     "name": "stdout",
     "output_type": "stream",
     "text": [
      "2233.0\n"
     ]
    },
    {
     "name": "stderr",
     "output_type": "stream",
     "text": [
      "[I 2024-02-15 16:42:46,486] Trial 30 finished with value: 0.7084180561203741 and parameters: {'max_depth': 10, 'min_samples_split': 10, 'min_samples_leaf': 16, 'max_features': 15}. Best is trial 11 with value: 0.8.\n"
     ]
    },
    {
     "name": "stdout",
     "output_type": "stream",
     "text": [
      "1258.0\n"
     ]
    },
    {
     "name": "stderr",
     "output_type": "stream",
     "text": [
      "[I 2024-02-15 16:42:47,313] Trial 31 finished with value: 0.7948226270373921 and parameters: {'max_depth': 19, 'min_samples_split': 17, 'min_samples_leaf': 3, 'max_features': 30}. Best is trial 11 with value: 0.8.\n"
     ]
    },
    {
     "name": "stdout",
     "output_type": "stream",
     "text": [
      "1567.0\n"
     ]
    },
    {
     "name": "stderr",
     "output_type": "stream",
     "text": [
      "[I 2024-02-15 16:42:48,172] Trial 32 finished with value: 0.7827338129496403 and parameters: {'max_depth': 19, 'min_samples_split': 19, 'min_samples_leaf': 2, 'max_features': 26}. Best is trial 11 with value: 0.8.\n"
     ]
    },
    {
     "name": "stdout",
     "output_type": "stream",
     "text": [
      "1620.0\n"
     ]
    },
    {
     "name": "stderr",
     "output_type": "stream",
     "text": [
      "[I 2024-02-15 16:42:49,067] Trial 33 finished with value: 0.788785046728972 and parameters: {'max_depth': 18, 'min_samples_split': 16, 'min_samples_leaf': 2, 'max_features': 29}. Best is trial 11 with value: 0.8.\n"
     ]
    },
    {
     "name": "stdout",
     "output_type": "stream",
     "text": [
      "906.0\n"
     ]
    },
    {
     "name": "stderr",
     "output_type": "stream",
     "text": [
      "[I 2024-02-15 16:42:49,935] Trial 34 finished with value: 0.7888942077549067 and parameters: {'max_depth': 20, 'min_samples_split': 16, 'min_samples_leaf': 1, 'max_features': 26}. Best is trial 11 with value: 0.8.\n"
     ]
    },
    {
     "name": "stdout",
     "output_type": "stream",
     "text": [
      "2214.0\n"
     ]
    },
    {
     "name": "stderr",
     "output_type": "stream",
     "text": [
      "[I 2024-02-15 16:42:50,546] Trial 35 finished with value: 0.6879939781708694 and parameters: {'max_depth': 6, 'min_samples_split': 14, 'min_samples_leaf': 5, 'max_features': 30}. Best is trial 11 with value: 0.8.\n"
     ]
    },
    {
     "name": "stdout",
     "output_type": "stream",
     "text": [
      "2689.0\n"
     ]
    },
    {
     "name": "stderr",
     "output_type": "stream",
     "text": [
      "[I 2024-02-15 16:42:51,414] Trial 36 finished with value: 0.777211672070403 and parameters: {'max_depth': 16, 'min_samples_split': 14, 'min_samples_leaf': 3, 'max_features': 28}. Best is trial 11 with value: 0.8.\n"
     ]
    },
    {
     "name": "stdout",
     "output_type": "stream",
     "text": [
      "1619.0\n"
     ]
    },
    {
     "name": "stderr",
     "output_type": "stream",
     "text": [
      "[I 2024-02-15 16:42:52,203] Trial 37 finished with value: 0.7747914735866543 and parameters: {'max_depth': 17, 'min_samples_split': 12, 'min_samples_leaf': 4, 'max_features': 24}. Best is trial 11 with value: 0.8.\n"
     ]
    },
    {
     "name": "stdout",
     "output_type": "stream",
     "text": [
      "2106.0\n"
     ]
    },
    {
     "name": "stderr",
     "output_type": "stream",
     "text": [
      "[I 2024-02-15 16:42:52,757] Trial 38 finished with value: 0.7789473684210526 and parameters: {'max_depth': 19, 'min_samples_split': 18, 'min_samples_leaf': 5, 'max_features': 17}. Best is trial 11 with value: 0.8.\n"
     ]
    },
    {
     "name": "stdout",
     "output_type": "stream",
     "text": [
      "938.0\n"
     ]
    },
    {
     "name": "stderr",
     "output_type": "stream",
     "text": [
      "[I 2024-02-15 16:42:53,221] Trial 39 finished with value: 0.7246753246753247 and parameters: {'max_depth': 14, 'min_samples_split': 10, 'min_samples_leaf': 2, 'max_features': 12}. Best is trial 11 with value: 0.8.\n"
     ]
    },
    {
     "name": "stdout",
     "output_type": "stream",
     "text": [
      "1697.0\n"
     ]
    },
    {
     "name": "stderr",
     "output_type": "stream",
     "text": [
      "[I 2024-02-15 16:42:54,021] Trial 40 finished with value: 0.7846663511594889 and parameters: {'max_depth': 18, 'min_samples_split': 17, 'min_samples_leaf': 2, 'max_features': 26}. Best is trial 11 with value: 0.8.\n"
     ]
    },
    {
     "name": "stdout",
     "output_type": "stream",
     "text": [
      "953.0\n"
     ]
    },
    {
     "name": "stderr",
     "output_type": "stream",
     "text": [
      "[I 2024-02-15 16:42:54,978] Trial 41 finished with value: 0.7901468498342018 and parameters: {'max_depth': 19, 'min_samples_split': 17, 'min_samples_leaf': 3, 'max_features': 30}. Best is trial 11 with value: 0.8.\n"
     ]
    },
    {
     "name": "stdout",
     "output_type": "stream",
     "text": [
      "1562.0\n"
     ]
    },
    {
     "name": "stderr",
     "output_type": "stream",
     "text": [
      "[I 2024-02-15 16:42:55,979] Trial 42 finished with value: 0.7858490566037736 and parameters: {'max_depth': 20, 'min_samples_split': 20, 'min_samples_leaf': 1, 'max_features': 29}. Best is trial 11 with value: 0.8.\n"
     ]
    },
    {
     "name": "stdout",
     "output_type": "stream",
     "text": [
      "2224.0\n"
     ]
    },
    {
     "name": "stderr",
     "output_type": "stream",
     "text": [
      "[I 2024-02-15 16:42:56,973] Trial 43 finished with value: 0.7796451914098973 and parameters: {'max_depth': 19, 'min_samples_split': 16, 'min_samples_leaf': 4, 'max_features': 29}. Best is trial 11 with value: 0.8.\n"
     ]
    },
    {
     "name": "stdout",
     "output_type": "stream",
     "text": [
      "1040.0\n"
     ]
    },
    {
     "name": "stderr",
     "output_type": "stream",
     "text": [
      "[I 2024-02-15 16:42:57,419] Trial 44 finished with value: 0.6791226645004061 and parameters: {'max_depth': 3, 'min_samples_split': 17, 'min_samples_leaf': 3, 'max_features': 27}. Best is trial 11 with value: 0.8.\n"
     ]
    },
    {
     "name": "stdout",
     "output_type": "stream",
     "text": [
      "2808.0\n"
     ]
    },
    {
     "name": "stderr",
     "output_type": "stream",
     "text": [
      "[I 2024-02-15 16:42:58,451] Trial 45 finished with value: 0.7786116322701688 and parameters: {'max_depth': 17, 'min_samples_split': 19, 'min_samples_leaf': 1, 'max_features': 30}. Best is trial 11 with value: 0.8.\n"
     ]
    },
    {
     "name": "stdout",
     "output_type": "stream",
     "text": [
      "1961.0\n"
     ]
    },
    {
     "name": "stderr",
     "output_type": "stream",
     "text": [
      "[I 2024-02-15 16:42:59,117] Trial 46 finished with value: 0.7589650476622787 and parameters: {'max_depth': 20, 'min_samples_split': 15, 'min_samples_leaf': 12, 'max_features': 25}. Best is trial 11 with value: 0.8.\n"
     ]
    },
    {
     "name": "stdout",
     "output_type": "stream",
     "text": [
      "1774.0\n"
     ]
    },
    {
     "name": "stderr",
     "output_type": "stream",
     "text": [
      "[I 2024-02-15 16:42:59,468] Trial 47 finished with value: 0.7537279710799819 and parameters: {'max_depth': 18, 'min_samples_split': 11, 'min_samples_leaf': 5, 'max_features': 6}. Best is trial 11 with value: 0.8.\n"
     ]
    },
    {
     "name": "stdout",
     "output_type": "stream",
     "text": [
      "1312.0\n"
     ]
    },
    {
     "name": "stderr",
     "output_type": "stream",
     "text": [
      "[I 2024-02-15 16:43:00,293] Trial 48 finished with value: 0.7672219720846466 and parameters: {'max_depth': 15, 'min_samples_split': 5, 'min_samples_leaf': 3, 'max_features': 21}. Best is trial 11 with value: 0.8.\n"
     ]
    },
    {
     "name": "stdout",
     "output_type": "stream",
     "text": [
      "1817.0\n"
     ]
    },
    {
     "name": "stderr",
     "output_type": "stream",
     "text": [
      "[I 2024-02-15 16:43:00,982] Trial 49 finished with value: 0.688115064345193 and parameters: {'max_depth': 7, 'min_samples_split': 15, 'min_samples_leaf': 7, 'max_features': 27}. Best is trial 11 with value: 0.8.\n"
     ]
    },
    {
     "name": "stdout",
     "output_type": "stream",
     "text": [
      "896.0\n",
      "Number of finished trials: 50\n",
      "Best trial: {'max_depth': 20, 'min_samples_split': 12, 'min_samples_leaf': 1, 'max_features': 30}\n"
     ]
    }
   ],
   "source": [
    "# Optuna Study 생성 및 최적화\n",
    "sampler = optuna.samplers.TPESampler(seed=42)\n",
    "study = optuna.create_study(direction='maximize', sampler=sampler)\n",
    "study.optimize(objective, n_trials=50)\n",
    "\n",
    "# 최적화 결과 출력\n",
    "print('Number of finished trials:', len(study.trials))\n",
    "print('Best trial:', study.best_trial.params)"
   ]
  },
  {
   "cell_type": "code",
   "execution_count": 90,
   "id": "d138832a3e8cb84e",
   "metadata": {
    "ExecuteTime": {
     "end_time": "2024-02-13T09:58:48.792972100Z",
     "start_time": "2024-02-13T09:58:42.268392100Z"
    },
    "collapsed": false
   },
   "outputs": [
    {
     "name": "stdout",
     "output_type": "stream",
     "text": [
      "1980\n",
      "XGB Accuracy: 0.972681281618887\n",
      "0.838\n"
     ]
    }
   ],
   "source": [
    "model_xgb = xgb.XGBClassifier(random_state=42,\n",
    "                              max_depth=8,\n",
    "                              n_estimators=293,\n",
    "                              min_child_weight= 7, \n",
    "                              subsample= 0.9105470510211687, \n",
    "                              colsample_bytree= 0.6106420516903334,\n",
    "                              learning_rate=0.11721096762426182)  # 0.889783305005426\n",
    "\n",
    "model_xgb.fit(X_train, y_train)\n",
    "test_pred = model_xgb.predict(x_test)\n",
    "print(sum(test_pred))  # True로 예측된 개수\n",
    "\n",
    "y_pred_xgb = model_xgb.predict(X_test)\n",
    "# 정확도 및 F1 점수 계산\n",
    "accuracy_xgb = accuracy_score(y_test, y_pred_xgb)\n",
    "print(f\"XGB Accuracy: {accuracy_xgb}\")\n",
    "print(f1_score(y_test, y_pred_xgb, average='binary'))\n"
   ]
  },
  {
   "cell_type": "code",
   "execution_count": null,
   "id": "43061c14214f1787",
   "metadata": {
    "ExecuteTime": {
     "end_time": "2024-02-13T10:16:04.077587400Z",
     "start_time": "2024-02-13T10:15:58.321797400Z"
    },
    "collapsed": false
   },
   "outputs": [],
   "source": [
    "from lightgbm import LGBMClassifier\n",
    "# LightGBM 모델 생성\n",
    "model_lgbm = LGBMClassifier(\n",
    "    random_state=42,\n",
    "    n_estimators=494,\n",
    "    learning_rate= 0.03253797176663715,\n",
    "    num_leaves=117,\n",
    "    max_depth=6\n",
    ")\n",
    "\n",
    "# 모델 학습\n",
    "model_lgbm.fit(X_train, y_train)\n",
    "\n",
    "test_pred = model_lgbm.predict(x_test)\n",
    "print(sum(test_pred)) # True로 예측된 개수\n",
    "\n",
    "\n",
    "# 예측\n",
    "y_pred_lgbm = model_lgbm.predict(X_test)\n",
    "\n",
    "# 정확도 및 F1 점수 계산\n",
    "accuracy_lgbm = accuracy_score(y_test, y_pred_lgbm)\n",
    "print(f\"LGBM Accuracy: {accuracy_lgbm}\")\n",
    "print(f1_score(y_test, y_pred_lgbm, average='binary'))"
   ]
  },
  {
   "cell_type": "code",
   "execution_count": 101,
   "id": "e43f34a5d3048eee",
   "metadata": {
    "ExecuteTime": {
     "end_time": "2024-02-13T10:22:33.808511400Z",
     "start_time": "2024-02-13T10:22:25.616851400Z"
    },
    "collapsed": false
   },
   "outputs": [
    {
     "name": "stdout",
     "output_type": "stream",
     "text": [
      "1539.0\n",
      "CatBoost Accuracy: 0.9710792580101181\n",
      "0.8296075509190264\n"
     ]
    }
   ],
   "source": [
    "from catboost import CatBoostClassifier\n",
    "\n",
    "# CatBoost 모델 생성\n",
    "model_catboost = CatBoostClassifier(\n",
    "    random_state=42,\n",
    "    iterations=304, # n_estimators와 비슷합니다.\n",
    "    learning_rate=0.08048373583394688,\n",
    "    depth=8 ,# max_depth와 비슷합니다.\n",
    "    l2_leaf_reg= 1 ,\n",
    "    border_count = 148,\n",
    "    \n",
    "    silent=True # 학습 과정에서 메시지를 출력하지 않습니다.\n",
    ")\n",
    "\n",
    "# 모델 학습\n",
    "model_catboost.fit(X_train, y_train)\n",
    "\n",
    "test_pred = model_catboost.predict(x_test)\n",
    "print(sum(test_pred)) # True로 예측된 개수\n",
    "\n",
    "# 예측\n",
    "y_pred_catboost = model_catboost.predict(X_test)\n",
    "\n",
    "# 정확도 및 F1 점수 계산\n",
    "accuracy_catboost = accuracy_score(y_test, y_pred_catboost)\n",
    "print(f\"CatBoost Accuracy: {accuracy_catboost}\")\n",
    "print(f1_score(y_test, y_pred_catboost, average='binary'))\n"
   ]
  },
  {
   "cell_type": "code",
   "execution_count": 105,
   "id": "cde5457fc982008b",
   "metadata": {
    "ExecuteTime": {
     "end_time": "2024-02-13T10:22:39.460169600Z",
     "start_time": "2024-02-13T10:22:38.473731600Z"
    },
    "collapsed": false
   },
   "outputs": [
    {
     "name": "stdout",
     "output_type": "stream",
     "text": [
      "2160.0\n",
      "Decision Tree Accuracy: 0.9611298482293423\n",
      "0.7816200852676457\n"
     ]
    }
   ],
   "source": [
    "from sklearn.tree import DecisionTreeClassifier\n",
    "# Decision Tree 모델 생성\n",
    "model_dt = DecisionTreeClassifier(\n",
    "    random_state=42,\n",
    "    max_depth= 20,# 트리의 최대 깊이를 설정합니다.\n",
    "    min_samples_split= 16,\n",
    "    min_samples_leaf=1,\n",
    "    max_features=26\n",
    "    \n",
    ")\n",
    "\n",
    "# 모델 학습\n",
    "model_dt.fit(X_train, y_train)\n",
    "\n",
    "# 예측\n",
    "y_pred_dt = model_dt.predict(X_test)\n",
    "\n",
    "test_pred = model_dt.predict(x_test)\n",
    "print(sum(test_pred))\n",
    "\n",
    "# 정확도 및 F1 점수 계산\n",
    "accuracy_dt = accuracy_score(y_test, y_pred_dt)\n",
    "print(f\"Decision Tree Accuracy: {accuracy_dt}\")\n",
    "print(f1_score(y_test, y_pred_dt, average='binary'))"
   ]
  },
  {
   "cell_type": "code",
   "execution_count": 108,
   "id": "737647bfa8a9bdec",
   "metadata": {
    "ExecuteTime": {
     "end_time": "2024-02-13T10:31:34.499007900Z",
     "start_time": "2024-02-13T10:31:22.192850800Z"
    },
    "collapsed": false
   },
   "outputs": [
    {
     "data": {
      "text/html": [
       "<style>#sk-container-id-3 {\n",
       "  /* Definition of color scheme common for light and dark mode */\n",
       "  --sklearn-color-text: black;\n",
       "  --sklearn-color-line: gray;\n",
       "  /* Definition of color scheme for unfitted estimators */\n",
       "  --sklearn-color-unfitted-level-0: #fff5e6;\n",
       "  --sklearn-color-unfitted-level-1: #f6e4d2;\n",
       "  --sklearn-color-unfitted-level-2: #ffe0b3;\n",
       "  --sklearn-color-unfitted-level-3: chocolate;\n",
       "  /* Definition of color scheme for fitted estimators */\n",
       "  --sklearn-color-fitted-level-0: #f0f8ff;\n",
       "  --sklearn-color-fitted-level-1: #d4ebff;\n",
       "  --sklearn-color-fitted-level-2: #b3dbfd;\n",
       "  --sklearn-color-fitted-level-3: cornflowerblue;\n",
       "\n",
       "  /* Specific color for light theme */\n",
       "  --sklearn-color-text-on-default-background: var(--sg-text-color, var(--theme-code-foreground, var(--jp-content-font-color1, black)));\n",
       "  --sklearn-color-background: var(--sg-background-color, var(--theme-background, var(--jp-layout-color0, white)));\n",
       "  --sklearn-color-border-box: var(--sg-text-color, var(--theme-code-foreground, var(--jp-content-font-color1, black)));\n",
       "  --sklearn-color-icon: #696969;\n",
       "\n",
       "  @media (prefers-color-scheme: dark) {\n",
       "    /* Redefinition of color scheme for dark theme */\n",
       "    --sklearn-color-text-on-default-background: var(--sg-text-color, var(--theme-code-foreground, var(--jp-content-font-color1, white)));\n",
       "    --sklearn-color-background: var(--sg-background-color, var(--theme-background, var(--jp-layout-color0, #111)));\n",
       "    --sklearn-color-border-box: var(--sg-text-color, var(--theme-code-foreground, var(--jp-content-font-color1, white)));\n",
       "    --sklearn-color-icon: #878787;\n",
       "  }\n",
       "}\n",
       "\n",
       "#sk-container-id-3 {\n",
       "  color: var(--sklearn-color-text);\n",
       "}\n",
       "\n",
       "#sk-container-id-3 pre {\n",
       "  padding: 0;\n",
       "}\n",
       "\n",
       "#sk-container-id-3 input.sk-hidden--visually {\n",
       "  border: 0;\n",
       "  clip: rect(1px 1px 1px 1px);\n",
       "  clip: rect(1px, 1px, 1px, 1px);\n",
       "  height: 1px;\n",
       "  margin: -1px;\n",
       "  overflow: hidden;\n",
       "  padding: 0;\n",
       "  position: absolute;\n",
       "  width: 1px;\n",
       "}\n",
       "\n",
       "#sk-container-id-3 div.sk-dashed-wrapped {\n",
       "  border: 1px dashed var(--sklearn-color-line);\n",
       "  margin: 0 0.4em 0.5em 0.4em;\n",
       "  box-sizing: border-box;\n",
       "  padding-bottom: 0.4em;\n",
       "  background-color: var(--sklearn-color-background);\n",
       "}\n",
       "\n",
       "#sk-container-id-3 div.sk-container {\n",
       "  /* jupyter's `normalize.less` sets `[hidden] { display: none; }`\n",
       "     but bootstrap.min.css set `[hidden] { display: none !important; }`\n",
       "     so we also need the `!important` here to be able to override the\n",
       "     default hidden behavior on the sphinx rendered scikit-learn.org.\n",
       "     See: https://github.com/scikit-learn/scikit-learn/issues/21755 */\n",
       "  display: inline-block !important;\n",
       "  position: relative;\n",
       "}\n",
       "\n",
       "#sk-container-id-3 div.sk-text-repr-fallback {\n",
       "  display: none;\n",
       "}\n",
       "\n",
       "div.sk-parallel-item,\n",
       "div.sk-serial,\n",
       "div.sk-item {\n",
       "  /* draw centered vertical line to link estimators */\n",
       "  background-image: linear-gradient(var(--sklearn-color-text-on-default-background), var(--sklearn-color-text-on-default-background));\n",
       "  background-size: 2px 100%;\n",
       "  background-repeat: no-repeat;\n",
       "  background-position: center center;\n",
       "}\n",
       "\n",
       "/* Parallel-specific style estimator block */\n",
       "\n",
       "#sk-container-id-3 div.sk-parallel-item::after {\n",
       "  content: \"\";\n",
       "  width: 100%;\n",
       "  border-bottom: 2px solid var(--sklearn-color-text-on-default-background);\n",
       "  flex-grow: 1;\n",
       "}\n",
       "\n",
       "#sk-container-id-3 div.sk-parallel {\n",
       "  display: flex;\n",
       "  align-items: stretch;\n",
       "  justify-content: center;\n",
       "  background-color: var(--sklearn-color-background);\n",
       "  position: relative;\n",
       "}\n",
       "\n",
       "#sk-container-id-3 div.sk-parallel-item {\n",
       "  display: flex;\n",
       "  flex-direction: column;\n",
       "}\n",
       "\n",
       "#sk-container-id-3 div.sk-parallel-item:first-child::after {\n",
       "  align-self: flex-end;\n",
       "  width: 50%;\n",
       "}\n",
       "\n",
       "#sk-container-id-3 div.sk-parallel-item:last-child::after {\n",
       "  align-self: flex-start;\n",
       "  width: 50%;\n",
       "}\n",
       "\n",
       "#sk-container-id-3 div.sk-parallel-item:only-child::after {\n",
       "  width: 0;\n",
       "}\n",
       "\n",
       "/* Serial-specific style estimator block */\n",
       "\n",
       "#sk-container-id-3 div.sk-serial {\n",
       "  display: flex;\n",
       "  flex-direction: column;\n",
       "  align-items: center;\n",
       "  background-color: var(--sklearn-color-background);\n",
       "  padding-right: 1em;\n",
       "  padding-left: 1em;\n",
       "}\n",
       "\n",
       "\n",
       "/* Toggleable style: style used for estimator/Pipeline/ColumnTransformer box that is\n",
       "clickable and can be expanded/collapsed.\n",
       "- Pipeline and ColumnTransformer use this feature and define the default style\n",
       "- Estimators will overwrite some part of the style using the `sk-estimator` class\n",
       "*/\n",
       "\n",
       "/* Pipeline and ColumnTransformer style (default) */\n",
       "\n",
       "#sk-container-id-3 div.sk-toggleable {\n",
       "  /* Default theme specific background. It is overwritten whether we have a\n",
       "  specific estimator or a Pipeline/ColumnTransformer */\n",
       "  background-color: var(--sklearn-color-background);\n",
       "}\n",
       "\n",
       "/* Toggleable label */\n",
       "#sk-container-id-3 label.sk-toggleable__label {\n",
       "  cursor: pointer;\n",
       "  display: block;\n",
       "  width: 100%;\n",
       "  margin-bottom: 0;\n",
       "  padding: 0.5em;\n",
       "  box-sizing: border-box;\n",
       "  text-align: center;\n",
       "}\n",
       "\n",
       "#sk-container-id-3 label.sk-toggleable__label-arrow:before {\n",
       "  /* Arrow on the left of the label */\n",
       "  content: \"▸\";\n",
       "  float: left;\n",
       "  margin-right: 0.25em;\n",
       "  color: var(--sklearn-color-icon);\n",
       "}\n",
       "\n",
       "#sk-container-id-3 label.sk-toggleable__label-arrow:hover:before {\n",
       "  color: var(--sklearn-color-text);\n",
       "}\n",
       "\n",
       "/* Toggleable content - dropdown */\n",
       "\n",
       "#sk-container-id-3 div.sk-toggleable__content {\n",
       "  max-height: 0;\n",
       "  max-width: 0;\n",
       "  overflow: hidden;\n",
       "  text-align: left;\n",
       "  /* unfitted */\n",
       "  background-color: var(--sklearn-color-unfitted-level-0);\n",
       "}\n",
       "\n",
       "#sk-container-id-3 div.sk-toggleable__content.fitted {\n",
       "  /* fitted */\n",
       "  background-color: var(--sklearn-color-fitted-level-0);\n",
       "}\n",
       "\n",
       "#sk-container-id-3 div.sk-toggleable__content pre {\n",
       "  margin: 0.2em;\n",
       "  border-radius: 0.25em;\n",
       "  color: var(--sklearn-color-text);\n",
       "  /* unfitted */\n",
       "  background-color: var(--sklearn-color-unfitted-level-0);\n",
       "}\n",
       "\n",
       "#sk-container-id-3 div.sk-toggleable__content.fitted pre {\n",
       "  /* unfitted */\n",
       "  background-color: var(--sklearn-color-fitted-level-0);\n",
       "}\n",
       "\n",
       "#sk-container-id-3 input.sk-toggleable__control:checked~div.sk-toggleable__content {\n",
       "  /* Expand drop-down */\n",
       "  max-height: 200px;\n",
       "  max-width: 100%;\n",
       "  overflow: auto;\n",
       "}\n",
       "\n",
       "#sk-container-id-3 input.sk-toggleable__control:checked~label.sk-toggleable__label-arrow:before {\n",
       "  content: \"▾\";\n",
       "}\n",
       "\n",
       "/* Pipeline/ColumnTransformer-specific style */\n",
       "\n",
       "#sk-container-id-3 div.sk-label input.sk-toggleable__control:checked~label.sk-toggleable__label {\n",
       "  color: var(--sklearn-color-text);\n",
       "  background-color: var(--sklearn-color-unfitted-level-2);\n",
       "}\n",
       "\n",
       "#sk-container-id-3 div.sk-label.fitted input.sk-toggleable__control:checked~label.sk-toggleable__label {\n",
       "  background-color: var(--sklearn-color-fitted-level-2);\n",
       "}\n",
       "\n",
       "/* Estimator-specific style */\n",
       "\n",
       "/* Colorize estimator box */\n",
       "#sk-container-id-3 div.sk-estimator input.sk-toggleable__control:checked~label.sk-toggleable__label {\n",
       "  /* unfitted */\n",
       "  background-color: var(--sklearn-color-unfitted-level-2);\n",
       "}\n",
       "\n",
       "#sk-container-id-3 div.sk-estimator.fitted input.sk-toggleable__control:checked~label.sk-toggleable__label {\n",
       "  /* fitted */\n",
       "  background-color: var(--sklearn-color-fitted-level-2);\n",
       "}\n",
       "\n",
       "#sk-container-id-3 div.sk-label label.sk-toggleable__label,\n",
       "#sk-container-id-3 div.sk-label label {\n",
       "  /* The background is the default theme color */\n",
       "  color: var(--sklearn-color-text-on-default-background);\n",
       "}\n",
       "\n",
       "/* On hover, darken the color of the background */\n",
       "#sk-container-id-3 div.sk-label:hover label.sk-toggleable__label {\n",
       "  color: var(--sklearn-color-text);\n",
       "  background-color: var(--sklearn-color-unfitted-level-2);\n",
       "}\n",
       "\n",
       "/* Label box, darken color on hover, fitted */\n",
       "#sk-container-id-3 div.sk-label.fitted:hover label.sk-toggleable__label.fitted {\n",
       "  color: var(--sklearn-color-text);\n",
       "  background-color: var(--sklearn-color-fitted-level-2);\n",
       "}\n",
       "\n",
       "/* Estimator label */\n",
       "\n",
       "#sk-container-id-3 div.sk-label label {\n",
       "  font-family: monospace;\n",
       "  font-weight: bold;\n",
       "  display: inline-block;\n",
       "  line-height: 1.2em;\n",
       "}\n",
       "\n",
       "#sk-container-id-3 div.sk-label-container {\n",
       "  text-align: center;\n",
       "}\n",
       "\n",
       "/* Estimator-specific */\n",
       "#sk-container-id-3 div.sk-estimator {\n",
       "  font-family: monospace;\n",
       "  border: 1px dotted var(--sklearn-color-border-box);\n",
       "  border-radius: 0.25em;\n",
       "  box-sizing: border-box;\n",
       "  margin-bottom: 0.5em;\n",
       "  /* unfitted */\n",
       "  background-color: var(--sklearn-color-unfitted-level-0);\n",
       "}\n",
       "\n",
       "#sk-container-id-3 div.sk-estimator.fitted {\n",
       "  /* fitted */\n",
       "  background-color: var(--sklearn-color-fitted-level-0);\n",
       "}\n",
       "\n",
       "/* on hover */\n",
       "#sk-container-id-3 div.sk-estimator:hover {\n",
       "  /* unfitted */\n",
       "  background-color: var(--sklearn-color-unfitted-level-2);\n",
       "}\n",
       "\n",
       "#sk-container-id-3 div.sk-estimator.fitted:hover {\n",
       "  /* fitted */\n",
       "  background-color: var(--sklearn-color-fitted-level-2);\n",
       "}\n",
       "\n",
       "/* Specification for estimator info (e.g. \"i\" and \"?\") */\n",
       "\n",
       "/* Common style for \"i\" and \"?\" */\n",
       "\n",
       ".sk-estimator-doc-link,\n",
       "a:link.sk-estimator-doc-link,\n",
       "a:visited.sk-estimator-doc-link {\n",
       "  float: right;\n",
       "  font-size: smaller;\n",
       "  line-height: 1em;\n",
       "  font-family: monospace;\n",
       "  background-color: var(--sklearn-color-background);\n",
       "  border-radius: 1em;\n",
       "  height: 1em;\n",
       "  width: 1em;\n",
       "  text-decoration: none !important;\n",
       "  margin-left: 1ex;\n",
       "  /* unfitted */\n",
       "  border: var(--sklearn-color-unfitted-level-1) 1pt solid;\n",
       "  color: var(--sklearn-color-unfitted-level-1);\n",
       "}\n",
       "\n",
       ".sk-estimator-doc-link.fitted,\n",
       "a:link.sk-estimator-doc-link.fitted,\n",
       "a:visited.sk-estimator-doc-link.fitted {\n",
       "  /* fitted */\n",
       "  border: var(--sklearn-color-fitted-level-1) 1pt solid;\n",
       "  color: var(--sklearn-color-fitted-level-1);\n",
       "}\n",
       "\n",
       "/* On hover */\n",
       "div.sk-estimator:hover .sk-estimator-doc-link:hover,\n",
       ".sk-estimator-doc-link:hover,\n",
       "div.sk-label-container:hover .sk-estimator-doc-link:hover,\n",
       ".sk-estimator-doc-link:hover {\n",
       "  /* unfitted */\n",
       "  background-color: var(--sklearn-color-unfitted-level-3);\n",
       "  color: var(--sklearn-color-background);\n",
       "  text-decoration: none;\n",
       "}\n",
       "\n",
       "div.sk-estimator.fitted:hover .sk-estimator-doc-link.fitted:hover,\n",
       ".sk-estimator-doc-link.fitted:hover,\n",
       "div.sk-label-container:hover .sk-estimator-doc-link.fitted:hover,\n",
       ".sk-estimator-doc-link.fitted:hover {\n",
       "  /* fitted */\n",
       "  background-color: var(--sklearn-color-fitted-level-3);\n",
       "  color: var(--sklearn-color-background);\n",
       "  text-decoration: none;\n",
       "}\n",
       "\n",
       "/* Span, style for the box shown on hovering the info icon */\n",
       ".sk-estimator-doc-link span {\n",
       "  display: none;\n",
       "  z-index: 9999;\n",
       "  position: relative;\n",
       "  font-weight: normal;\n",
       "  right: .2ex;\n",
       "  padding: .5ex;\n",
       "  margin: .5ex;\n",
       "  width: min-content;\n",
       "  min-width: 20ex;\n",
       "  max-width: 50ex;\n",
       "  color: var(--sklearn-color-text);\n",
       "  box-shadow: 2pt 2pt 4pt #999;\n",
       "  /* unfitted */\n",
       "  background: var(--sklearn-color-unfitted-level-0);\n",
       "  border: .5pt solid var(--sklearn-color-unfitted-level-3);\n",
       "}\n",
       "\n",
       ".sk-estimator-doc-link.fitted span {\n",
       "  /* fitted */\n",
       "  background: var(--sklearn-color-fitted-level-0);\n",
       "  border: var(--sklearn-color-fitted-level-3);\n",
       "}\n",
       "\n",
       ".sk-estimator-doc-link:hover span {\n",
       "  display: block;\n",
       "}\n",
       "\n",
       "/* \"?\"-specific style due to the `<a>` HTML tag */\n",
       "\n",
       "#sk-container-id-3 a.estimator_doc_link {\n",
       "  float: right;\n",
       "  font-size: 1rem;\n",
       "  line-height: 1em;\n",
       "  font-family: monospace;\n",
       "  background-color: var(--sklearn-color-background);\n",
       "  border-radius: 1rem;\n",
       "  height: 1rem;\n",
       "  width: 1rem;\n",
       "  text-decoration: none;\n",
       "  /* unfitted */\n",
       "  color: var(--sklearn-color-unfitted-level-1);\n",
       "  border: var(--sklearn-color-unfitted-level-1) 1pt solid;\n",
       "}\n",
       "\n",
       "#sk-container-id-3 a.estimator_doc_link.fitted {\n",
       "  /* fitted */\n",
       "  border: var(--sklearn-color-fitted-level-1) 1pt solid;\n",
       "  color: var(--sklearn-color-fitted-level-1);\n",
       "}\n",
       "\n",
       "/* On hover */\n",
       "#sk-container-id-3 a.estimator_doc_link:hover {\n",
       "  /* unfitted */\n",
       "  background-color: var(--sklearn-color-unfitted-level-3);\n",
       "  color: var(--sklearn-color-background);\n",
       "  text-decoration: none;\n",
       "}\n",
       "\n",
       "#sk-container-id-3 a.estimator_doc_link.fitted:hover {\n",
       "  /* fitted */\n",
       "  background-color: var(--sklearn-color-fitted-level-3);\n",
       "}\n",
       "</style><div id=\"sk-container-id-3\" class=\"sk-top-container\"><div class=\"sk-text-repr-fallback\"><pre>VotingClassifier(estimators=[(&#x27;xgb&#x27;,\n",
       "                              XGBClassifier(base_score=None, booster=None,\n",
       "                                            callbacks=None,\n",
       "                                            colsample_bylevel=None,\n",
       "                                            colsample_bynode=None,\n",
       "                                            colsample_bytree=0.6106420516903334,\n",
       "                                            device=None,\n",
       "                                            early_stopping_rounds=None,\n",
       "                                            enable_categorical=False,\n",
       "                                            eval_metric=None,\n",
       "                                            feature_types=None, gamma=None,\n",
       "                                            grow_policy=None,\n",
       "                                            importance_type=None,\n",
       "                                            interaction_constraints=No...\n",
       "                                            max_leaves=None, min_child_weight=7,\n",
       "                                            missing=nan,\n",
       "                                            monotone_constraints=None,\n",
       "                                            multi_strategy=None,\n",
       "                                            n_estimators=293, n_jobs=None,\n",
       "                                            num_parallel_tree=None,\n",
       "                                            random_state=42, ...)),\n",
       "                             (&#x27;catboost&#x27;,\n",
       "                              &lt;catboost.core.CatBoostClassifier object at 0x00000273999707C0&gt;),\n",
       "                             (&#x27;dt&#x27;,\n",
       "                              DecisionTreeClassifier(max_depth=20,\n",
       "                                                     max_features=26,\n",
       "                                                     min_samples_split=16,\n",
       "                                                     random_state=42))],\n",
       "                 voting=&#x27;soft&#x27;, weights=[2, 1, 1])</pre><b>In a Jupyter environment, please rerun this cell to show the HTML representation or trust the notebook. <br />On GitHub, the HTML representation is unable to render, please try loading this page with nbviewer.org.</b></div><div class=\"sk-container\" hidden><div class=\"sk-item sk-dashed-wrapped\"><div class=\"sk-label-container\"><div class=\"sk-label fitted sk-toggleable\"><input class=\"sk-toggleable__control sk-hidden--visually\" id=\"sk-estimator-id-10\" type=\"checkbox\" ><label for=\"sk-estimator-id-10\" class=\"sk-toggleable__label fitted sk-toggleable__label-arrow fitted\">&nbsp;&nbsp;VotingClassifier<a class=\"sk-estimator-doc-link fitted\" rel=\"noreferrer\" target=\"_blank\" href=\"https://scikit-learn.org/1.4/modules/generated/sklearn.ensemble.VotingClassifier.html\">?<span>Documentation for VotingClassifier</span></a><span class=\"sk-estimator-doc-link fitted\">i<span>Fitted</span></span></label><div class=\"sk-toggleable__content fitted\"><pre>VotingClassifier(estimators=[(&#x27;xgb&#x27;,\n",
       "                              XGBClassifier(base_score=None, booster=None,\n",
       "                                            callbacks=None,\n",
       "                                            colsample_bylevel=None,\n",
       "                                            colsample_bynode=None,\n",
       "                                            colsample_bytree=0.6106420516903334,\n",
       "                                            device=None,\n",
       "                                            early_stopping_rounds=None,\n",
       "                                            enable_categorical=False,\n",
       "                                            eval_metric=None,\n",
       "                                            feature_types=None, gamma=None,\n",
       "                                            grow_policy=None,\n",
       "                                            importance_type=None,\n",
       "                                            interaction_constraints=No...\n",
       "                                            max_leaves=None, min_child_weight=7,\n",
       "                                            missing=nan,\n",
       "                                            monotone_constraints=None,\n",
       "                                            multi_strategy=None,\n",
       "                                            n_estimators=293, n_jobs=None,\n",
       "                                            num_parallel_tree=None,\n",
       "                                            random_state=42, ...)),\n",
       "                             (&#x27;catboost&#x27;,\n",
       "                              &lt;catboost.core.CatBoostClassifier object at 0x00000273999707C0&gt;),\n",
       "                             (&#x27;dt&#x27;,\n",
       "                              DecisionTreeClassifier(max_depth=20,\n",
       "                                                     max_features=26,\n",
       "                                                     min_samples_split=16,\n",
       "                                                     random_state=42))],\n",
       "                 voting=&#x27;soft&#x27;, weights=[2, 1, 1])</pre></div> </div></div><div class=\"sk-parallel\"><div class=\"sk-parallel-item\"><div class=\"sk-item\"><div class=\"sk-label-container\"><div class=\"sk-label fitted sk-toggleable\"><label>xgb</label></div></div><div class=\"sk-serial\"><div class=\"sk-item\"><div class=\"sk-estimator fitted sk-toggleable\"><input class=\"sk-toggleable__control sk-hidden--visually\" id=\"sk-estimator-id-11\" type=\"checkbox\" ><label for=\"sk-estimator-id-11\" class=\"sk-toggleable__label fitted sk-toggleable__label-arrow fitted\">XGBClassifier</label><div class=\"sk-toggleable__content fitted\"><pre>XGBClassifier(base_score=None, booster=None, callbacks=None,\n",
       "              colsample_bylevel=None, colsample_bynode=None,\n",
       "              colsample_bytree=0.6106420516903334, device=None,\n",
       "              early_stopping_rounds=None, enable_categorical=False,\n",
       "              eval_metric=None, feature_types=None, gamma=None,\n",
       "              grow_policy=None, importance_type=None,\n",
       "              interaction_constraints=None, learning_rate=0.11721096762426182,\n",
       "              max_bin=None, max_cat_threshold=None, max_cat_to_onehot=None,\n",
       "              max_delta_step=None, max_depth=8, max_leaves=None,\n",
       "              min_child_weight=7, missing=nan, monotone_constraints=None,\n",
       "              multi_strategy=None, n_estimators=293, n_jobs=None,\n",
       "              num_parallel_tree=None, random_state=42, ...)</pre></div> </div></div></div></div></div><div class=\"sk-parallel-item\"><div class=\"sk-item\"><div class=\"sk-label-container\"><div class=\"sk-label fitted sk-toggleable\"><label>catboost</label></div></div><div class=\"sk-serial\"><div class=\"sk-item\"><div class=\"sk-estimator fitted sk-toggleable\"><input class=\"sk-toggleable__control sk-hidden--visually\" id=\"sk-estimator-id-12\" type=\"checkbox\" ><label for=\"sk-estimator-id-12\" class=\"sk-toggleable__label fitted sk-toggleable__label-arrow fitted\">CatBoostClassifier</label><div class=\"sk-toggleable__content fitted\"><pre>&lt;catboost.core.CatBoostClassifier object at 0x00000273999707C0&gt;</pre></div> </div></div></div></div></div><div class=\"sk-parallel-item\"><div class=\"sk-item\"><div class=\"sk-label-container\"><div class=\"sk-label fitted sk-toggleable\"><label>dt</label></div></div><div class=\"sk-serial\"><div class=\"sk-item\"><div class=\"sk-estimator fitted sk-toggleable\"><input class=\"sk-toggleable__control sk-hidden--visually\" id=\"sk-estimator-id-13\" type=\"checkbox\" ><label for=\"sk-estimator-id-13\" class=\"sk-toggleable__label fitted sk-toggleable__label-arrow fitted\">&nbsp;DecisionTreeClassifier<a class=\"sk-estimator-doc-link fitted\" rel=\"noreferrer\" target=\"_blank\" href=\"https://scikit-learn.org/1.4/modules/generated/sklearn.tree.DecisionTreeClassifier.html\">?<span>Documentation for DecisionTreeClassifier</span></a></label><div class=\"sk-toggleable__content fitted\"><pre>DecisionTreeClassifier(max_depth=20, max_features=26, min_samples_split=16,\n",
       "                       random_state=42)</pre></div> </div></div></div></div></div></div></div></div></div>"
      ],
      "text/plain": [
       "VotingClassifier(estimators=[('xgb',\n",
       "                              XGBClassifier(base_score=None, booster=None,\n",
       "                                            callbacks=None,\n",
       "                                            colsample_bylevel=None,\n",
       "                                            colsample_bynode=None,\n",
       "                                            colsample_bytree=0.6106420516903334,\n",
       "                                            device=None,\n",
       "                                            early_stopping_rounds=None,\n",
       "                                            enable_categorical=False,\n",
       "                                            eval_metric=None,\n",
       "                                            feature_types=None, gamma=None,\n",
       "                                            grow_policy=None,\n",
       "                                            importance_type=None,\n",
       "                                            interaction_constraints=No...\n",
       "                                            max_leaves=None, min_child_weight=7,\n",
       "                                            missing=nan,\n",
       "                                            monotone_constraints=None,\n",
       "                                            multi_strategy=None,\n",
       "                                            n_estimators=293, n_jobs=None,\n",
       "                                            num_parallel_tree=None,\n",
       "                                            random_state=42, ...)),\n",
       "                             ('catboost',\n",
       "                              <catboost.core.CatBoostClassifier object at 0x00000273999707C0>),\n",
       "                             ('dt',\n",
       "                              DecisionTreeClassifier(max_depth=20,\n",
       "                                                     max_features=26,\n",
       "                                                     min_samples_split=16,\n",
       "                                                     random_state=42))],\n",
       "                 voting='soft', weights=[2, 1, 1])"
      ]
     },
     "execution_count": 108,
     "metadata": {},
     "output_type": "execute_result"
    }
   ],
   "source": [
    "from sklearn.ensemble import VotingClassifier\n",
    "\n",
    "# 앙상블을 위한 분류기 리스트 생성\n",
    "classifiers = [\n",
    "    ('xgb', model_xgb),\n",
    "    ('catboost', model_catboost),\n",
    "    # ('lgbm', model_lgbm),\n",
    "    ('dt', model_dt)\n",
    "]\n",
    "\n",
    "# 여기서 weights는 각 분류기의 투표에 대한 가중치입니다.\n",
    "# 가중치를 동일하게 설정하거나 성능 기반으로 조정할 수 있습니다.\n",
    "weights = [2, 1, 1]\n",
    "\n",
    "# 소프트 투표 기반의 앙상블 모델 생성\n",
    "ensemble_model = VotingClassifier(estimators=classifiers, voting='soft', weights=weights)\n",
    "\n",
    "# 앙상블 모델 학습\n",
    "ensemble_model.fit(X_train, y_train)"
   ]
  },
  {
   "cell_type": "code",
   "execution_count": 109,
   "id": "86769114659c2c66",
   "metadata": {
    "ExecuteTime": {
     "end_time": "2024-02-13T10:31:41.087597400Z",
     "start_time": "2024-02-13T10:31:40.941981400Z"
    },
    "collapsed": false
   },
   "outputs": [
    {
     "name": "stdout",
     "output_type": "stream",
     "text": [
      "1748.0\n",
      "Ensemble Model Accuracy: 0.9711635750421586\n",
      "Ensemble Model F1 Score: 0.8308605341246291\n"
     ]
    }
   ],
   "source": [
    "# 앙상블 모델을 사용한 예측\n",
    "y_pred_ensemble = ensemble_model.predict(X_test)\n",
    "\n",
    "test_pred = ensemble_model.predict(x_test)\n",
    "print(sum(test_pred)) # True로 예측된 개수\n",
    "\n",
    "accuracy_ensemble = accuracy_score(y_test, y_pred_ensemble)\n",
    "f1_ensemble = f1_score(y_test, y_pred_ensemble, average='binary')\n",
    "\n",
    "print(f\"Ensemble Model Accuracy: {accuracy_ensemble}\")\n",
    "print(f\"Ensemble Model F1 Score: {f1_ensemble}\")"
   ]
  },
  {
   "cell_type": "code",
   "execution_count": 110,
   "id": "c93cefe848b728dd",
   "metadata": {
    "ExecuteTime": {
     "end_time": "2024-02-13T10:31:43.312570300Z",
     "start_time": "2024-02-13T10:31:43.287637Z"
    },
    "collapsed": false
   },
   "outputs": [],
   "source": [
    "# 예측에 필요한 데이터 분리\n",
    "x_test = test.drop([\"is_converted\"], axis=1)"
   ]
  },
  {
   "cell_type": "code",
   "execution_count": 111,
   "id": "def0567564b5151e",
   "metadata": {
    "ExecuteTime": {
     "end_time": "2024-02-13T10:31:43.716491Z",
     "start_time": "2024-02-13T10:31:43.637701800Z"
    },
    "collapsed": false
   },
   "outputs": [
    {
     "name": "stdout",
     "output_type": "stream",
     "text": [
      "1980\n",
      "1539.0\n",
      "1748.0\n"
     ]
    }
   ],
   "source": [
    "test_pred = model_xgb.predict(x_test)\n",
    "print(sum(test_pred)) # True로 예측된 개수\n",
    "\n",
    "# test_pred = model_lgbm.predict(x_test)\n",
    "# sum(test_pred)\n",
    "\n",
    "test_pred = model_catboost.predict(x_test)\n",
    "print(sum(test_pred)) # True로 예측된 개수\n",
    "# \n",
    "test_pred = ensemble_model.predict(x_test)\n",
    "print(sum(test_pred)) # True로 예측된 개수\n",
    "\n",
    "# test_pred = model_dt.predict(x_test)\n",
    "# print(sum(test_pred)) # True로 예측된 개수\n",
    "\n"
   ]
  },
  {
   "cell_type": "code",
   "execution_count": 115,
   "id": "962cdb1bd16e6b2f",
   "metadata": {
    "ExecuteTime": {
     "end_time": "2024-02-13T10:31:48.679177Z",
     "start_time": "2024-02-13T10:31:48.615347800Z"
    },
    "collapsed": false
   },
   "outputs": [
    {
     "name": "stdout",
     "output_type": "stream",
     "text": [
      "1748.0\n"
     ]
    }
   ],
   "source": [
    "test_pred = ensemble_model.predict(x_test)\n",
    "print(sum(test_pred)) # True로 예측된 개수"
   ]
  },
  {
   "cell_type": "code",
   "execution_count": 116,
   "id": "52383341092910fe",
   "metadata": {
    "ExecuteTime": {
     "end_time": "2024-02-13T10:32:00.314528700Z",
     "start_time": "2024-02-13T10:32:00.295579200Z"
    },
    "collapsed": false
   },
   "outputs": [],
   "source": [
    "# 1을 True로, 0을 False로 변환\n",
    "test_pred = test_pred.astype(bool)"
   ]
  },
  {
   "cell_type": "code",
   "execution_count": 117,
   "id": "ca61c225bc2d11c",
   "metadata": {
    "ExecuteTime": {
     "end_time": "2024-02-13T10:32:01.369503100Z",
     "start_time": "2024-02-13T10:32:01.316645800Z"
    },
    "collapsed": false
   },
   "outputs": [],
   "source": [
    "# 제출 데이터 읽어오기 (df_test는 전처리된 데이터가 저장됨)\n",
    "df_sub = pd.read_csv(\"../Database/submission.csv\")\n",
    "df_sub[\"is_converted\"] = test_pred"
   ]
  },
  {
   "cell_type": "code",
   "execution_count": 114,
   "id": "159e4bcc51174e90",
   "metadata": {
    "ExecuteTime": {
     "end_time": "2024-02-13T10:32:04.109053300Z",
     "start_time": "2024-02-13T10:32:04.042924100Z"
    },
    "collapsed": false
   },
   "outputs": [],
   "source": [
    "df_sub.to_csv(\"../Codes/submission.csv\", index=False)"
   ]
  },
  {
   "cell_type": "code",
   "execution_count": 2,
   "id": "3a7e56bd",
   "metadata": {},
   "outputs": [],
   "source": [
    "import pandas as pd\n",
    "data = pd.read_csv('./submission_0.762.csv')"
   ]
  },
  {
   "cell_type": "code",
   "execution_count": 5,
   "id": "2e33fff0",
   "metadata": {},
   "outputs": [
    {
     "data": {
      "text/plain": [
       "1748.0"
      ]
     },
     "execution_count": 5,
     "metadata": {},
     "output_type": "execute_result"
    }
   ],
   "source": [
    "data['is_converted'].sum()"
   ]
  }
 ],
 "metadata": {
  "kernelspec": {
   "display_name": "Python 3",
   "language": "python",
   "name": "python3"
  },
  "language_info": {
   "codemirror_mode": {
    "name": "ipython",
    "version": 3
   },
   "file_extension": ".py",
   "mimetype": "text/x-python",
   "name": "python",
   "nbconvert_exporter": "python",
   "pygments_lexer": "ipython3",
   "version": "3.9.17"
  }
 },
 "nbformat": 4,
 "nbformat_minor": 5
}
